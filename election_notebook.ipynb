{
 "cells": [
  {
   "cell_type": "code",
   "execution_count": 515,
   "metadata": {
    "collapsed": false
   },
   "outputs": [],
   "source": [
    "import datetime\n",
    "import re\n",
    "import requests\n",
    "import pandas\n",
    "import inflection\n",
    "import numpy"
   ]
  },
  {
   "cell_type": "code",
   "execution_count": 516,
   "metadata": {
    "collapsed": true
   },
   "outputs": [],
   "source": [
    "pandas.set_option('max_columns', None)\n",
    "pandas.set_option('max_rows', None)"
   ]
  },
  {
   "cell_type": "code",
   "execution_count": 517,
   "metadata": {
    "collapsed": true
   },
   "outputs": [],
   "source": [
    "DATE_FORMAT = '%Y-%m-%d'  # using NYT's format"
   ]
  },
  {
   "cell_type": "code",
   "execution_count": null,
   "metadata": {
    "collapsed": true
   },
   "outputs": [],
   "source": []
  },
  {
   "cell_type": "code",
   "execution_count": null,
   "metadata": {
    "collapsed": false
   },
   "outputs": [],
   "source": []
  },
  {
   "cell_type": "code",
   "execution_count": 518,
   "metadata": {
    "collapsed": true
   },
   "outputs": [],
   "source": [
    "def convert_american_odds_to_prob(american_odds):\n",
    "    if american_odds > 100:\n",
    "        return 100 / (100 + american_odds)\n",
    "    else:\n",
    "        return (-1 * american_odds) / (100 - american_odds)"
   ]
  },
  {
   "cell_type": "code",
   "execution_count": null,
   "metadata": {
    "collapsed": true
   },
   "outputs": [],
   "source": []
  },
  {
   "cell_type": "code",
   "execution_count": null,
   "metadata": {
    "collapsed": true
   },
   "outputs": [],
   "source": []
  },
  {
   "cell_type": "code",
   "execution_count": 519,
   "metadata": {
    "collapsed": true
   },
   "outputs": [],
   "source": [
    "## Get the current market value from pinny\n",
    "pinny_json = requests.get('https://www.pinnacle.com/webapi/1.15/api/v1/GuestLines/Contest/Politics/2016-Presidential-Election-USA').json()\n",
    "pinny_list = pinny_json['Leagues'][0]['Events'][0]['Participants']\n",
    "pinny_offer_dict = {el['Name']: convert_american_odds_to_prob(el['MoneyLine']) for el in pinny_list}\n",
    "\n",
    "pinny_trump_offer = pinny_offer_dict['Donald Trump and all others']\n",
    "pinny_clinton_offer = pinny_offer_dict['Hillary Clinton']\n",
    "\n",
    "pinny_clinton_bid = 1 - pinny_trump_offer\n",
    "pinny_trump_bid = 1 - pinny_clinton_offer"
   ]
  },
  {
   "cell_type": "code",
   "execution_count": null,
   "metadata": {
    "collapsed": true
   },
   "outputs": [],
   "source": []
  },
  {
   "cell_type": "code",
   "execution_count": 520,
   "metadata": {
    "collapsed": true
   },
   "outputs": [],
   "source": [
    "# set fair values to pinny mid-market\n",
    "# alternatively you could set these things to any probability\n",
    "CLINTON_FAIR = (pinny_clinton_bid + pinny_clinton_offer) / 2\n",
    "TRUMP_FAIR   = (pinny_trump_bid + pinny_trump_offer) / 2"
   ]
  },
  {
   "cell_type": "code",
   "execution_count": null,
   "metadata": {
    "collapsed": false
   },
   "outputs": [],
   "source": []
  },
  {
   "cell_type": "code",
   "execution_count": 521,
   "metadata": {
    "collapsed": false
   },
   "outputs": [],
   "source": [
    "## Fetch 538 predictions and load into pandas.DataFrame\n",
    "data_538 = requests.get('http://projects.fivethirtyeight.com/2016-election-forecast/updates.json').json()\n",
    "list_538 = []\n",
    "\n",
    "for model_538 in data_538['updates'][::-1]:\n",
    "    dt = datetime.datetime.fromtimestamp(model_538['added'])\n",
    "    \n",
    "    trump_append = {\n",
    "        'candidate': 'Trump',\n",
    "        'date': dt.strftime(DATE_FORMAT),\n",
    "        'datetime': dt,\n",
    "    }\n",
    "    \n",
    "    \n",
    "    clinton_append = {\n",
    "        'candidate': 'Clinton',\n",
    "        'date': dt.strftime(DATE_FORMAT),\n",
    "        'datetime': dt,\n",
    "    }\n",
    "    \n",
    "    for model, candidate_list in model_538['diffs'].items():\n",
    "        for candidate in candidate_list:\n",
    "            \n",
    "            model_forecast = float(candidate['winprob']['current'])\n",
    "            forecast_iden = inflection.underscore('538__{model}'.format(model=model))\n",
    "            to_append[forecast_iden] = model_forecast\n",
    "            \n",
    "            if candidate['candidate'] == 'Trump':\n",
    "                trump_append[forecast_iden] = model_forecast\n",
    "            elif candidate['candidate'] == 'Clinton':\n",
    "                clinton_append[forecast_iden] = model_forecast\n",
    "    \n",
    "    list_538.append(clinton_append)\n",
    "    list_538.append(trump_append)\n",
    "\n",
    "order_538 = ['candidate','date','datetime','538__now_cast','538__polls_only','538__polls_plus']\n",
    "df_538 = pandas.DataFrame(list_538)[order_538].reset_index(drop=True)\n",
    "df_538.sort_values('datetime', inplace=True)\n",
    "df_538.drop(['datetime'], axis=1, inplace=True)"
   ]
  },
  {
   "cell_type": "code",
   "execution_count": null,
   "metadata": {
    "collapsed": false
   },
   "outputs": [],
   "source": []
  },
  {
   "cell_type": "code",
   "execution_count": 522,
   "metadata": {
    "collapsed": false
   },
   "outputs": [],
   "source": [
    "# Fetch PredictWise data & load into pandas.DataFrame\n",
    "data_pw = requests.get('http://table-cache1.predictwise.com/history/table_1523.json').json()\n",
    "list_pw = []\n",
    "dt_index_pw = []\n",
    "\n",
    "for pw_history in data_pw['history']:\n",
    "    dt = datetime.datetime.strptime(pw_history['timestamp'], '%m-%d-%Y %I:%M%p')\n",
    "    \n",
    "    clinton_append = {\n",
    "        'candidate': 'Clinton',\n",
    "        'date': dt.strftime(DATE_FORMAT),\n",
    "        'datetime': dt,\n",
    "    }\n",
    "    trump_append = {\n",
    "        'candidate': 'Trump',\n",
    "        'date': dt.strftime(DATE_FORMAT),\n",
    "        'datetime': dt,\n",
    "    }\n",
    "    \n",
    "    for pw_table in pw_history['table']:\n",
    "        party = pw_table[0]\n",
    "        \n",
    "        pw_data = {}\n",
    "        for column, value in zip(data_pw['header'][1:], pw_table[1:]):\n",
    "            col_name = 'pw__{c}'.format(c=inflection.underscore(column)).replace(' ','_')\n",
    "            pw_data[col_name] = float(re.sub(r'\\$|,|\\%','',str(value)))\n",
    "        \n",
    "        ## convert pw__predict_wise to proba (currently a percent)\n",
    "        pw_data['pw__predict_wise'] = pw_data['pw__predict_wise'] / 100\n",
    "        \n",
    "        if party == 'Democratic':\n",
    "            clinton_append.update(pw_data)\n",
    "        elif party == 'Republican':\n",
    "            trump_append.update(pw_data)\n",
    "    \n",
    "    list_pw.append(clinton_append)\n",
    "    list_pw.append(trump_append)\n",
    "\n",
    "df_pw = pandas.DataFrame(list_pw)\n",
    "df_pw.sort_values('datetime', inplace=True)\n",
    "df_pw.drop(['datetime'], axis=1, inplace=True)"
   ]
  },
  {
   "cell_type": "code",
   "execution_count": null,
   "metadata": {
    "collapsed": false
   },
   "outputs": [],
   "source": []
  },
  {
   "cell_type": "code",
   "execution_count": 523,
   "metadata": {
    "collapsed": false
   },
   "outputs": [],
   "source": [
    "## Ignore HuffPo for now: they're polls not predictions\n",
    "# df_huffpo = pandas.read_csv('http://elections.huffingtonpost.com/pollster/2016-general-election-trump-vs-clinton.csv')"
   ]
  },
  {
   "cell_type": "code",
   "execution_count": 524,
   "metadata": {
    "collapsed": false
   },
   "outputs": [],
   "source": [
    "# Fetch NYT predictions and load into pandas.DataFrame\n",
    "raw_df_nyt = pandas.read_csv('https://static01.nyt.com/newsgraphics/2016/08/05/presidential-forecast/54c9e640a5c8d15d126d86480a2245bded598d0c/timeseries.csv')\n",
    "nyt_list = []\n",
    "for date_record in raw_df_nyt.to_dict(orient='records'):\n",
    "    nyt_list.append({\n",
    "            'date': date_record['date'],\n",
    "            'candidate': 'Clinton',\n",
    "            'nyt': date_record['dem']\n",
    "        })\n",
    "    nyt_list.append({\n",
    "            'date': date_record['date'],\n",
    "            'candidate': 'Trump',\n",
    "            'nyt': date_record['rep']\n",
    "        })\n",
    "\n",
    "df_nyt = pandas.DataFrame(nyt_list)"
   ]
  },
  {
   "cell_type": "code",
   "execution_count": null,
   "metadata": {
    "collapsed": false
   },
   "outputs": [],
   "source": []
  },
  {
   "cell_type": "code",
   "execution_count": null,
   "metadata": {
    "collapsed": false
   },
   "outputs": [],
   "source": []
  },
  {
   "cell_type": "code",
   "execution_count": 525,
   "metadata": {
    "collapsed": false
   },
   "outputs": [],
   "source": [
    "## Look at the latest forecast made on each date\n",
    "gb_538 = df_538.groupby(['date', 'candidate'], as_index=False).nth(-1)\n",
    "gb_pw = df_pw.groupby(['date', 'candidate'], as_index=False).nth(-1)"
   ]
  },
  {
   "cell_type": "code",
   "execution_count": 526,
   "metadata": {
    "collapsed": false
   },
   "outputs": [],
   "source": [
    "## Merge to one big DataFrame\n",
    "df = pandas.merge(gb_538, gb_pw, how='outer').merge(df_nyt, how='outer')\n",
    "df.sort_values('date', inplace=True)\n",
    "df.reset_index(inplace=True, drop=True)\n",
    "df['fair_value'] = df['candidate'].apply(lambda k: TRUMP_FAIR if k == 'Trump' else CLINTON_FAIR)"
   ]
  },
  {
   "cell_type": "code",
   "execution_count": null,
   "metadata": {
    "collapsed": true
   },
   "outputs": [],
   "source": []
  },
  {
   "cell_type": "code",
   "execution_count": 532,
   "metadata": {
    "collapsed": false
   },
   "outputs": [
    {
     "data": {
      "text/html": [
       "<div>\n",
       "<table border=\"1\" class=\"dataframe\">\n",
       "  <thead>\n",
       "    <tr style=\"text-align: right;\">\n",
       "      <th></th>\n",
       "      <th>candidate</th>\n",
       "      <th>date</th>\n",
       "      <th>538__now_cast</th>\n",
       "      <th>538__polls_only</th>\n",
       "      <th>538__polls_plus</th>\n",
       "      <th>pw__betfair</th>\n",
       "      <th>pw__betfair_back</th>\n",
       "      <th>pw__betfair_lay</th>\n",
       "      <th>pw__bookie</th>\n",
       "      <th>pw__hypermind</th>\n",
       "      <th>pw__hypermind_ask</th>\n",
       "      <th>pw__hypermind_bid</th>\n",
       "      <th>pw__iem</th>\n",
       "      <th>pw__iem_ask</th>\n",
       "      <th>pw__iem_bid</th>\n",
       "      <th>pw__predict_it</th>\n",
       "      <th>pw__predict_it_buy</th>\n",
       "      <th>pw__predict_it_sell</th>\n",
       "      <th>pw__predict_wise</th>\n",
       "      <th>pw__pw_state_by_state</th>\n",
       "      <th>nyt</th>\n",
       "      <th>fair_value</th>\n",
       "    </tr>\n",
       "  </thead>\n",
       "  <tbody>\n",
       "    <tr>\n",
       "      <th>0</th>\n",
       "      <td>Clinton</td>\n",
       "      <td>2015-11-18</td>\n",
       "      <td>NaN</td>\n",
       "      <td>NaN</td>\n",
       "      <td>NaN</td>\n",
       "      <td>0.571</td>\n",
       "      <td>1.74</td>\n",
       "      <td>1.76</td>\n",
       "      <td>NaN</td>\n",
       "      <td>0.585</td>\n",
       "      <td>61.0</td>\n",
       "      <td>56.0</td>\n",
       "      <td>0.603</td>\n",
       "      <td>0.604</td>\n",
       "      <td>0.601</td>\n",
       "      <td>0.661</td>\n",
       "      <td>0.61</td>\n",
       "      <td>0.62</td>\n",
       "      <td>0.58</td>\n",
       "      <td>NaN</td>\n",
       "      <td>NaN</td>\n",
       "      <td>0.835319</td>\n",
       "    </tr>\n",
       "    <tr>\n",
       "      <th>1</th>\n",
       "      <td>Trump</td>\n",
       "      <td>2015-11-18</td>\n",
       "      <td>NaN</td>\n",
       "      <td>NaN</td>\n",
       "      <td>NaN</td>\n",
       "      <td>0.422</td>\n",
       "      <td>2.34</td>\n",
       "      <td>2.40</td>\n",
       "      <td>NaN</td>\n",
       "      <td>0.410</td>\n",
       "      <td>42.0</td>\n",
       "      <td>40.0</td>\n",
       "      <td>0.398</td>\n",
       "      <td>0.399</td>\n",
       "      <td>0.397</td>\n",
       "      <td>0.339</td>\n",
       "      <td>0.39</td>\n",
       "      <td>0.40</td>\n",
       "      <td>0.42</td>\n",
       "      <td>NaN</td>\n",
       "      <td>NaN</td>\n",
       "      <td>0.164681</td>\n",
       "    </tr>\n",
       "    <tr>\n",
       "      <th>2</th>\n",
       "      <td>Clinton</td>\n",
       "      <td>2015-11-19</td>\n",
       "      <td>NaN</td>\n",
       "      <td>NaN</td>\n",
       "      <td>NaN</td>\n",
       "      <td>0.573</td>\n",
       "      <td>1.74</td>\n",
       "      <td>1.75</td>\n",
       "      <td>NaN</td>\n",
       "      <td>0.585</td>\n",
       "      <td>61.0</td>\n",
       "      <td>56.0</td>\n",
       "      <td>0.604</td>\n",
       "      <td>0.608</td>\n",
       "      <td>0.600</td>\n",
       "      <td>0.661</td>\n",
       "      <td>0.61</td>\n",
       "      <td>0.62</td>\n",
       "      <td>0.58</td>\n",
       "      <td>NaN</td>\n",
       "      <td>NaN</td>\n",
       "      <td>0.835319</td>\n",
       "    </tr>\n",
       "    <tr>\n",
       "      <th>3</th>\n",
       "      <td>Trump</td>\n",
       "      <td>2015-11-19</td>\n",
       "      <td>NaN</td>\n",
       "      <td>NaN</td>\n",
       "      <td>NaN</td>\n",
       "      <td>0.422</td>\n",
       "      <td>2.34</td>\n",
       "      <td>2.40</td>\n",
       "      <td>NaN</td>\n",
       "      <td>0.410</td>\n",
       "      <td>42.0</td>\n",
       "      <td>40.0</td>\n",
       "      <td>0.400</td>\n",
       "      <td>0.400</td>\n",
       "      <td>0.399</td>\n",
       "      <td>0.339</td>\n",
       "      <td>0.39</td>\n",
       "      <td>0.40</td>\n",
       "      <td>0.42</td>\n",
       "      <td>NaN</td>\n",
       "      <td>NaN</td>\n",
       "      <td>0.164681</td>\n",
       "    </tr>\n",
       "    <tr>\n",
       "      <th>4</th>\n",
       "      <td>Trump</td>\n",
       "      <td>2015-11-20</td>\n",
       "      <td>NaN</td>\n",
       "      <td>NaN</td>\n",
       "      <td>NaN</td>\n",
       "      <td>0.426</td>\n",
       "      <td>2.32</td>\n",
       "      <td>2.38</td>\n",
       "      <td>NaN</td>\n",
       "      <td>0.410</td>\n",
       "      <td>42.0</td>\n",
       "      <td>40.0</td>\n",
       "      <td>0.398</td>\n",
       "      <td>0.398</td>\n",
       "      <td>0.397</td>\n",
       "      <td>0.352</td>\n",
       "      <td>0.40</td>\n",
       "      <td>0.41</td>\n",
       "      <td>0.42</td>\n",
       "      <td>NaN</td>\n",
       "      <td>NaN</td>\n",
       "      <td>0.164681</td>\n",
       "    </tr>\n",
       "  </tbody>\n",
       "</table>\n",
       "</div>"
      ],
      "text/plain": [
       "  candidate        date  538__now_cast  538__polls_only  538__polls_plus  \\\n",
       "0   Clinton  2015-11-18            NaN              NaN              NaN   \n",
       "1     Trump  2015-11-18            NaN              NaN              NaN   \n",
       "2   Clinton  2015-11-19            NaN              NaN              NaN   \n",
       "3     Trump  2015-11-19            NaN              NaN              NaN   \n",
       "4     Trump  2015-11-20            NaN              NaN              NaN   \n",
       "\n",
       "   pw__betfair  pw__betfair_back  pw__betfair_lay  pw__bookie  pw__hypermind  \\\n",
       "0        0.571              1.74             1.76         NaN          0.585   \n",
       "1        0.422              2.34             2.40         NaN          0.410   \n",
       "2        0.573              1.74             1.75         NaN          0.585   \n",
       "3        0.422              2.34             2.40         NaN          0.410   \n",
       "4        0.426              2.32             2.38         NaN          0.410   \n",
       "\n",
       "   pw__hypermind_ask  pw__hypermind_bid  pw__iem  pw__iem_ask  pw__iem_bid  \\\n",
       "0               61.0               56.0    0.603        0.604        0.601   \n",
       "1               42.0               40.0    0.398        0.399        0.397   \n",
       "2               61.0               56.0    0.604        0.608        0.600   \n",
       "3               42.0               40.0    0.400        0.400        0.399   \n",
       "4               42.0               40.0    0.398        0.398        0.397   \n",
       "\n",
       "   pw__predict_it  pw__predict_it_buy  pw__predict_it_sell  pw__predict_wise  \\\n",
       "0           0.661                0.61                 0.62              0.58   \n",
       "1           0.339                0.39                 0.40              0.42   \n",
       "2           0.661                0.61                 0.62              0.58   \n",
       "3           0.339                0.39                 0.40              0.42   \n",
       "4           0.352                0.40                 0.41              0.42   \n",
       "\n",
       "   pw__pw_state_by_state  nyt  fair_value  \n",
       "0                    NaN  NaN    0.835319  \n",
       "1                    NaN  NaN    0.164681  \n",
       "2                    NaN  NaN    0.835319  \n",
       "3                    NaN  NaN    0.164681  \n",
       "4                    NaN  NaN    0.164681  "
      ]
     },
     "execution_count": 532,
     "metadata": {},
     "output_type": "execute_result"
    }
   ],
   "source": [
    "# all data merged\n",
    "df.head(5)"
   ]
  },
  {
   "cell_type": "code",
   "execution_count": null,
   "metadata": {
    "collapsed": true
   },
   "outputs": [],
   "source": []
  },
  {
   "cell_type": "code",
   "execution_count": 533,
   "metadata": {
    "collapsed": true
   },
   "outputs": [],
   "source": [
    "## don't really know where i want to take this from here\n",
    "## really like your kelly betting method of PnLing\n",
    "## so might implement that in Python"
   ]
  },
  {
   "cell_type": "code",
   "execution_count": 527,
   "metadata": {
    "collapsed": true
   },
   "outputs": [],
   "source": [
    "def loss_function(truth_series, predict_series):\n",
    "    return (truth_series * numpy.log(predict_series)).mean()"
   ]
  },
  {
   "cell_type": "code",
   "execution_count": 528,
   "metadata": {
    "collapsed": true
   },
   "outputs": [],
   "source": [
    "to_compare = [\n",
    "    'nyt',\n",
    "    'pw__predict_wise',\n",
    "    'pw__predict_it',\n",
    "    'pw__iem',\n",
    "    'pw__hypermind',\n",
    "    'pw__betfair',\n",
    "    '538__now_cast',\n",
    "    '538__polls_only',\n",
    "    '538__polls_plus'\n",
    "]"
   ]
  },
  {
   "cell_type": "code",
   "execution_count": 529,
   "metadata": {
    "collapsed": false,
    "scrolled": false
   },
   "outputs": [],
   "source": [
    "comparisons = []\n",
    "for compare_column in to_compare:\n",
    "    compare_df = df[pandas.notnull(df[compare_column])]\n",
    "    \n",
    "    y_true = (compare_df['fair_value'])\n",
    "    y_pred = (compare_df[compare_column])\n",
    "    \n",
    "    loss = loss_function(y_true, y_pred)\n",
    "    \n",
    "    comparisons.append({\n",
    "            'prediction': compare_column,\n",
    "            'loss': loss,\n",
    "        })\n",
    "comparisons_df = pandas.DataFrame(comparisons)[['prediction','loss']]\n",
    "comparisons_df.sort_values('loss', ascending=False, inplace=True)\n",
    "comparisons_df.reset_index(inplace=True, drop=True)"
   ]
  },
  {
   "cell_type": "code",
   "execution_count": 530,
   "metadata": {
    "collapsed": false
   },
   "outputs": [
    {
     "data": {
      "text/html": [
       "<div>\n",
       "<table border=\"1\" class=\"dataframe\">\n",
       "  <thead>\n",
       "    <tr style=\"text-align: right;\">\n",
       "      <th></th>\n",
       "      <th>prediction</th>\n",
       "      <th>loss</th>\n",
       "    </tr>\n",
       "  </thead>\n",
       "  <tbody>\n",
       "    <tr>\n",
       "      <th>0</th>\n",
       "      <td>nyt</td>\n",
       "      <td>-0.237565</td>\n",
       "    </tr>\n",
       "    <tr>\n",
       "      <th>1</th>\n",
       "      <td>538__polls_only</td>\n",
       "      <td>-0.251104</td>\n",
       "    </tr>\n",
       "    <tr>\n",
       "      <th>2</th>\n",
       "      <td>pw__predict_wise</td>\n",
       "      <td>-0.252528</td>\n",
       "    </tr>\n",
       "    <tr>\n",
       "      <th>3</th>\n",
       "      <td>538__polls_plus</td>\n",
       "      <td>-0.253090</td>\n",
       "    </tr>\n",
       "    <tr>\n",
       "      <th>4</th>\n",
       "      <td>538__now_cast</td>\n",
       "      <td>-0.253106</td>\n",
       "    </tr>\n",
       "    <tr>\n",
       "      <th>5</th>\n",
       "      <td>pw__predict_it</td>\n",
       "      <td>-0.255152</td>\n",
       "    </tr>\n",
       "    <tr>\n",
       "      <th>6</th>\n",
       "      <td>pw__betfair</td>\n",
       "      <td>-0.255438</td>\n",
       "    </tr>\n",
       "    <tr>\n",
       "      <th>7</th>\n",
       "      <td>pw__iem</td>\n",
       "      <td>-0.255601</td>\n",
       "    </tr>\n",
       "    <tr>\n",
       "      <th>8</th>\n",
       "      <td>pw__hypermind</td>\n",
       "      <td>-0.265053</td>\n",
       "    </tr>\n",
       "  </tbody>\n",
       "</table>\n",
       "</div>"
      ],
      "text/plain": [
       "         prediction      loss\n",
       "0               nyt -0.237565\n",
       "1   538__polls_only -0.251104\n",
       "2  pw__predict_wise -0.252528\n",
       "3   538__polls_plus -0.253090\n",
       "4     538__now_cast -0.253106\n",
       "5    pw__predict_it -0.255152\n",
       "6       pw__betfair -0.255438\n",
       "7           pw__iem -0.255601\n",
       "8     pw__hypermind -0.265053"
      ]
     },
     "execution_count": 530,
     "metadata": {},
     "output_type": "execute_result"
    }
   ],
   "source": [
    "comparisons_df"
   ]
  },
  {
   "cell_type": "code",
   "execution_count": null,
   "metadata": {
    "collapsed": true
   },
   "outputs": [],
   "source": []
  },
  {
   "cell_type": "code",
   "execution_count": null,
   "metadata": {
    "collapsed": true
   },
   "outputs": [],
   "source": []
  }
 ],
 "metadata": {
  "kernelspec": {
   "display_name": "Python 3",
   "language": "python",
   "name": "python3"
  },
  "language_info": {
   "codemirror_mode": {
    "name": "ipython",
    "version": 3
   },
   "file_extension": ".py",
   "mimetype": "text/x-python",
   "name": "python",
   "nbconvert_exporter": "python",
   "pygments_lexer": "ipython3",
   "version": "3.5.2"
  }
 },
 "nbformat": 4,
 "nbformat_minor": 1
}
