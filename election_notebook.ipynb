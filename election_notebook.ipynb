{
 "cells": [
  {
   "cell_type": "code",
   "execution_count": 198,
   "metadata": {
    "collapsed": true
   },
   "outputs": [],
   "source": [
    "%matplotlib inline\n",
    "\n",
    "import matplotlib\n",
    "import matplotlib.pyplot as plt"
   ]
  },
  {
   "cell_type": "code",
   "execution_count": 199,
   "metadata": {
    "collapsed": false
   },
   "outputs": [],
   "source": [
    "import datetime\n",
    "import re\n",
    "import requests\n",
    "import pandas\n",
    "import inflection\n",
    "import numpy"
   ]
  },
  {
   "cell_type": "code",
   "execution_count": 200,
   "metadata": {
    "collapsed": false
   },
   "outputs": [],
   "source": [
    "from sklearn.linear_model import LinearRegression"
   ]
  },
  {
   "cell_type": "code",
   "execution_count": 201,
   "metadata": {
    "collapsed": true
   },
   "outputs": [],
   "source": [
    "import quandl\n",
    "quandl.ApiConfig.api_key = '7dMDm25fMpxGZr_cxdXe'\n",
    "quandl.ApiConfig.api_version = '2015-04-09'"
   ]
  },
  {
   "cell_type": "code",
   "execution_count": 202,
   "metadata": {
    "collapsed": true
   },
   "outputs": [],
   "source": [
    "pandas.set_option('max_columns', None)\n",
    "pandas.set_option('max_rows', None)"
   ]
  },
  {
   "cell_type": "code",
   "execution_count": 203,
   "metadata": {
    "collapsed": true
   },
   "outputs": [],
   "source": [
    "DATE_FORMAT = '%Y-%m-%d'  # using NYT's format"
   ]
  },
  {
   "cell_type": "code",
   "execution_count": null,
   "metadata": {
    "collapsed": true
   },
   "outputs": [],
   "source": []
  },
  {
   "cell_type": "code",
   "execution_count": 204,
   "metadata": {
    "collapsed": true
   },
   "outputs": [],
   "source": [
    "# prices of SPX futures\n",
    "df_spx = quandl.get('CHRIS/CME_SP1').reset_index()\n",
    "df_spx = df_spx[df_spx['Date'] >= '2015-01-01'].reset_index(drop=True)\n",
    "df_spx.rename(columns={'Date':'date', 'Last':'spx'}, inplace=True)\n",
    "df_spx['date'] = df_spx['date'].dt.strftime(DATE_FORMAT)\n",
    "df_spx.drop([col for col in df_spx.columns if col not in ('date','spx')], axis=1, inplace=True)"
   ]
  },
  {
   "cell_type": "code",
   "execution_count": null,
   "metadata": {
    "collapsed": false
   },
   "outputs": [],
   "source": []
  },
  {
   "cell_type": "code",
   "execution_count": null,
   "metadata": {
    "collapsed": false
   },
   "outputs": [],
   "source": []
  },
  {
   "cell_type": "code",
   "execution_count": 206,
   "metadata": {
    "collapsed": true
   },
   "outputs": [],
   "source": [
    "def convert_american_odds_to_prob(american_odds):\n",
    "    if american_odds > 100:\n",
    "        return 100 / (100 + american_odds)\n",
    "    else:\n",
    "        return (-1 * american_odds) / (100 - american_odds)"
   ]
  },
  {
   "cell_type": "code",
   "execution_count": null,
   "metadata": {
    "collapsed": true
   },
   "outputs": [],
   "source": []
  },
  {
   "cell_type": "code",
   "execution_count": null,
   "metadata": {
    "collapsed": true
   },
   "outputs": [],
   "source": []
  },
  {
   "cell_type": "code",
   "execution_count": 211,
   "metadata": {
    "collapsed": true
   },
   "outputs": [],
   "source": [
    "## Get the current market value from pinny\n",
    "pinny_json = requests.get('https://www.pinnacle.com/webapi/1.15/api/v1/GuestLines/Contest/Politics/2016-Presidential-Election-USA').json()\n",
    "pinny_list = pinny_json['Leagues'][0]['Events'][0]['Participants']\n",
    "pinny_offer_dict = {el['Name']: convert_american_odds_to_prob(el['MoneyLine']) for el in pinny_list}\n",
    "\n",
    "pinny_trump_offer = pinny_offer_dict['Donald Trump and all others']\n",
    "pinny_clinton_offer = pinny_offer_dict['Hillary Clinton']\n",
    "\n",
    "pinny_clinton_bid = 1 - pinny_trump_offer\n",
    "pinny_trump_bid = 1 - pinny_clinton_offer"
   ]
  },
  {
   "cell_type": "code",
   "execution_count": null,
   "metadata": {
    "collapsed": true
   },
   "outputs": [],
   "source": []
  },
  {
   "cell_type": "code",
   "execution_count": 212,
   "metadata": {
    "collapsed": true
   },
   "outputs": [],
   "source": [
    "# set fair values to pinny mid-market\n",
    "# alternatively you could set these things to any probability\n",
    "CLINTON_FAIR = (pinny_clinton_bid + pinny_clinton_offer) / 2\n",
    "TRUMP_FAIR   = (pinny_trump_bid + pinny_trump_offer) / 2"
   ]
  },
  {
   "cell_type": "code",
   "execution_count": 213,
   "metadata": {
    "collapsed": false
   },
   "outputs": [
    {
     "data": {
      "text/plain": [
       "(0.7975708502024291, 0.8266897746967071)"
      ]
     },
     "execution_count": 213,
     "metadata": {},
     "output_type": "execute_result"
    }
   ],
   "source": [
    "pinny_clinton_bid, pinny_clinton_offer"
   ]
  },
  {
   "cell_type": "code",
   "execution_count": null,
   "metadata": {
    "collapsed": true
   },
   "outputs": [],
   "source": []
  },
  {
   "cell_type": "code",
   "execution_count": 14,
   "metadata": {
    "collapsed": false
   },
   "outputs": [],
   "source": [
    "## Fetch 538 predictions and load into pandas.DataFrame\n",
    "data_538 = requests.get('http://projects.fivethirtyeight.com/2016-election-forecast/updates.json').json()\n",
    "list_538 = []\n",
    "\n",
    "for model_538 in data_538['updates'][::-1]:\n",
    "    dt = datetime.datetime.fromtimestamp(model_538['added'])\n",
    "    \n",
    "    trump_append = {\n",
    "        'candidate': 'Trump',\n",
    "        'date': dt.strftime(DATE_FORMAT),\n",
    "        'datetime': dt,\n",
    "    }\n",
    "    \n",
    "    \n",
    "    clinton_append = {\n",
    "        'candidate': 'Clinton',\n",
    "        'date': dt.strftime(DATE_FORMAT),\n",
    "        'datetime': dt,\n",
    "    }\n",
    "    \n",
    "    for model, candidate_list in model_538['diffs'].items():\n",
    "        for candidate in candidate_list:\n",
    "            \n",
    "            model_forecast = float(candidate['winprob']['current'])\n",
    "            forecast_iden = inflection.underscore('538__{model}'.format(model=model))\n",
    "            \n",
    "            if candidate['candidate'] == 'Trump':\n",
    "                trump_append[forecast_iden] = model_forecast\n",
    "            elif candidate['candidate'] == 'Clinton':\n",
    "                clinton_append[forecast_iden] = model_forecast\n",
    "    \n",
    "    list_538.append(clinton_append)\n",
    "    list_538.append(trump_append)\n",
    "\n",
    "order_538 = ['candidate','date','datetime','538__now_cast','538__polls_only','538__polls_plus']\n",
    "df_538 = pandas.DataFrame(list_538)[order_538].reset_index(drop=True)\n",
    "df_538.sort_values('datetime', inplace=True)\n",
    "df_538.drop(['datetime'], axis=1, inplace=True)"
   ]
  },
  {
   "cell_type": "code",
   "execution_count": null,
   "metadata": {
    "collapsed": false
   },
   "outputs": [],
   "source": []
  },
  {
   "cell_type": "code",
   "execution_count": 15,
   "metadata": {
    "collapsed": false
   },
   "outputs": [],
   "source": [
    "# Fetch PredictWise data & load into pandas.DataFrame\n",
    "data_pw = requests.get('http://table-cache1.predictwise.com/history/table_1523.json').json()\n",
    "list_pw = []\n",
    "dt_index_pw = []\n",
    "\n",
    "for pw_history in data_pw['history']:\n",
    "    dt = datetime.datetime.strptime(pw_history['timestamp'], '%m-%d-%Y %I:%M%p')\n",
    "    \n",
    "    clinton_append = {\n",
    "        'candidate': 'Clinton',\n",
    "        'date': dt.strftime(DATE_FORMAT),\n",
    "        'datetime': dt,\n",
    "    }\n",
    "    trump_append = {\n",
    "        'candidate': 'Trump',\n",
    "        'date': dt.strftime(DATE_FORMAT),\n",
    "        'datetime': dt,\n",
    "    }\n",
    "    \n",
    "    for pw_table in pw_history['table']:\n",
    "        party = pw_table[0]\n",
    "        \n",
    "        pw_data = {}\n",
    "        for column, value in zip(data_pw['header'][1:], pw_table[1:]):\n",
    "            col_name = 'pw__{c}'.format(c=inflection.underscore(column)).replace(' ','_')\n",
    "            pw_data[col_name] = float(re.sub(r'\\$|,|\\%','',str(value)))\n",
    "        \n",
    "        ## convert pw__predict_wise to proba (currently a percent)\n",
    "        pw_data['pw__predict_wise'] = pw_data['pw__predict_wise'] / 100\n",
    "        \n",
    "        if party == 'Democratic':\n",
    "            clinton_append.update(pw_data)\n",
    "        elif party == 'Republican':\n",
    "            trump_append.update(pw_data)\n",
    "    \n",
    "    list_pw.append(clinton_append)\n",
    "    list_pw.append(trump_append)\n",
    "\n",
    "df_pw = pandas.DataFrame(list_pw)\n",
    "df_pw.sort_values('datetime', inplace=True)\n",
    "df_pw.drop(['datetime'], axis=1, inplace=True)"
   ]
  },
  {
   "cell_type": "code",
   "execution_count": null,
   "metadata": {
    "collapsed": false
   },
   "outputs": [],
   "source": []
  },
  {
   "cell_type": "code",
   "execution_count": 16,
   "metadata": {
    "collapsed": false
   },
   "outputs": [],
   "source": [
    "## Ignore HuffPo for now: they're polls not predictions\n",
    "# df_huffpo = pandas.read_csv('http://elections.huffingtonpost.com/pollster/2016-general-election-trump-vs-clinton.csv')"
   ]
  },
  {
   "cell_type": "code",
   "execution_count": 17,
   "metadata": {
    "collapsed": false
   },
   "outputs": [],
   "source": [
    "# Fetch NYT predictions and load into pandas.DataFrame\n",
    "raw_df_nyt = pandas.read_csv('https://static01.nyt.com/newsgraphics/2016/08/05/presidential-forecast/54c9e640a5c8d15d126d86480a2245bded598d0c/timeseries.csv')\n",
    "nyt_list = []\n",
    "for date_record in raw_df_nyt.to_dict(orient='records'):\n",
    "    nyt_list.append({\n",
    "            'date': date_record['date'],\n",
    "            'candidate': 'Clinton',\n",
    "            'nyt': date_record['dem']\n",
    "        })\n",
    "    nyt_list.append({\n",
    "            'date': date_record['date'],\n",
    "            'candidate': 'Trump',\n",
    "            'nyt': date_record['rep']\n",
    "        })\n",
    "\n",
    "df_nyt = pandas.DataFrame(nyt_list)"
   ]
  },
  {
   "cell_type": "code",
   "execution_count": null,
   "metadata": {
    "collapsed": false
   },
   "outputs": [],
   "source": []
  },
  {
   "cell_type": "code",
   "execution_count": null,
   "metadata": {
    "collapsed": false
   },
   "outputs": [],
   "source": []
  },
  {
   "cell_type": "code",
   "execution_count": 18,
   "metadata": {
    "collapsed": false
   },
   "outputs": [],
   "source": [
    "## Look at the latest forecast made on each date\n",
    "gb_538 = df_538.groupby(['date', 'candidate'], as_index=False).nth(-1)\n",
    "gb_pw = df_pw.groupby(['date', 'candidate'], as_index=False).nth(-1)"
   ]
  },
  {
   "cell_type": "code",
   "execution_count": 26,
   "metadata": {
    "collapsed": false
   },
   "outputs": [],
   "source": [
    "## Merge to one big DataFrame\n",
    "df = pandas.merge(gb_538, gb_pw, how='outer').merge(df_nyt, how='outer').merge(df_spx, on='date', how='left')\n",
    "df.sort_values('date', inplace=True)\n",
    "df.reset_index(inplace=True, drop=True)\n",
    "df['fair_value'] = df['candidate'].apply(lambda k: TRUMP_FAIR if k == 'Trump' else CLINTON_FAIR)"
   ]
  },
  {
   "cell_type": "code",
   "execution_count": null,
   "metadata": {
    "collapsed": false
   },
   "outputs": [],
   "source": []
  },
  {
   "cell_type": "code",
   "execution_count": 189,
   "metadata": {
    "collapsed": false
   },
   "outputs": [],
   "source": [
    "clinton_df = df[(df['candidate']=='Clinton') & (df['date'] > '2016-01-01')][['date','spx','pw__betfair']]"
   ]
  },
  {
   "cell_type": "code",
   "execution_count": 190,
   "metadata": {
    "collapsed": false
   },
   "outputs": [],
   "source": [
    "clinton_df['lr_spx'] = numpy.log(clinton_df['spx']) - numpy.log(clinton_df['spx'].shift(1))\n",
    "clinton_df['betfair_diff'] = numpy.log(clinton_df['pw__betfair']) - numpy.log(clinton_df['pw__betfair'].shift(1))\n",
    "\n",
    "\n",
    "# clinton_df['betfair_diff'] = -numpy.log(1/clinton_df['pw__betfair'] - 1) - -numpy.log(1/clinton_df['pw__betfair'].shift(1) - 1)"
   ]
  },
  {
   "cell_type": "code",
   "execution_count": 191,
   "metadata": {
    "collapsed": true
   },
   "outputs": [],
   "source": [
    "clinton_df = clinton_df.dropna().reset_index(drop=True)"
   ]
  },
  {
   "cell_type": "code",
   "execution_count": 192,
   "metadata": {
    "collapsed": true
   },
   "outputs": [],
   "source": [
    "lm = LinearRegression()"
   ]
  },
  {
   "cell_type": "code",
   "execution_count": 193,
   "metadata": {
    "collapsed": false
   },
   "outputs": [
    {
     "data": {
      "text/plain": [
       "LinearRegression(copy_X=True, fit_intercept=True, n_jobs=1, normalize=False)"
      ]
     },
     "execution_count": 193,
     "metadata": {},
     "output_type": "execute_result"
    }
   ],
   "source": [
    "lm.fit(y=clinton_df['betfair_diff'], X=clinton_df[['lr_spx']])"
   ]
  },
  {
   "cell_type": "code",
   "execution_count": 194,
   "metadata": {
    "collapsed": false
   },
   "outputs": [
    {
     "data": {
      "text/plain": [
       "(array([ 0.1698375]), -0.00034857107492276097)"
      ]
     },
     "execution_count": 194,
     "metadata": {},
     "output_type": "execute_result"
    }
   ],
   "source": [
    "lm.coef_, lm.intercept_"
   ]
  },
  {
   "cell_type": "code",
   "execution_count": null,
   "metadata": {
    "collapsed": true
   },
   "outputs": [],
   "source": []
  },
  {
   "cell_type": "code",
   "execution_count": 195,
   "metadata": {
    "collapsed": false
   },
   "outputs": [
    {
     "data": {
      "text/plain": [
       "array([[ 1.        ,  0.08624086],\n",
       "       [ 0.08624086,  1.        ]])"
      ]
     },
     "execution_count": 195,
     "metadata": {},
     "output_type": "execute_result"
    }
   ],
   "source": [
    "numpy.corrcoef(clinton_df['lr_spx'], clinton_df['betfair_diff'])"
   ]
  },
  {
   "cell_type": "code",
   "execution_count": 196,
   "metadata": {
    "collapsed": false,
    "scrolled": false
   },
   "outputs": [
    {
     "data": {
      "text/plain": [
       "<matplotlib.text.Text at 0x112917b00>"
      ]
     },
     "execution_count": 196,
     "metadata": {},
     "output_type": "execute_result"
    },
    {
     "data": {
      "image/png": "[encoded data removed]",
      "text/plain": [
       "<matplotlib.figure.Figure at 0x111f0b0f0>"
      ]
     },
     "metadata": {},
     "output_type": "display_data"
    }
   ],
   "source": [
    "ax = clinton_df.plot(x='betfair_diff', y='lr_spx', style='.', xlim=(-0.2, 0.2), ylim=(-0.05, 0.05))\n",
    "ax.set_xlabel(\"Log returns of S&P500\")\n",
    "ax.set_ylabel(\"Change in Betfair-implied HRC logit win probability\")\n",
    "ax.set_title(\"Change in HRC logit win prob vs. SPX log returns\")"
   ]
  },
  {
   "cell_type": "code",
   "execution_count": null,
   "metadata": {
    "collapsed": false
   },
   "outputs": [],
   "source": []
  },
  {
   "cell_type": "code",
   "execution_count": 197,
   "metadata": {
    "collapsed": true
   },
   "outputs": [],
   "source": [
    "## don't really know where i want to take this from here\n",
    "## really like your kelly betting method of PnLing\n",
    "## so might implement that in Python"
   ]
  },
  {
   "cell_type": "code",
   "execution_count": 33,
   "metadata": {
    "collapsed": true
   },
   "outputs": [],
   "source": [
    "def loss_function(truth_series, predict_series):\n",
    "    return (truth_series * numpy.log(predict_series)).mean()"
   ]
  },
  {
   "cell_type": "code",
   "execution_count": 528,
   "metadata": {
    "collapsed": true
   },
   "outputs": [],
   "source": [
    "to_compare = [\n",
    "    'nyt',\n",
    "    'pw__predict_wise',\n",
    "    'pw__predict_it',\n",
    "    'pw__iem',\n",
    "    'pw__hypermind',\n",
    "    'pw__betfair',\n",
    "    '538__now_cast',\n",
    "    '538__polls_only',\n",
    "    '538__polls_plus'\n",
    "]"
   ]
  },
  {
   "cell_type": "code",
   "execution_count": 529,
   "metadata": {
    "collapsed": false,
    "scrolled": false
   },
   "outputs": [],
   "source": [
    "comparisons = []\n",
    "for compare_column in to_compare:\n",
    "    compare_df = df[pandas.notnull(df[compare_column])]\n",
    "    \n",
    "    y_true = (compare_df['fair_value'])\n",
    "    y_pred = (compare_df[compare_column])\n",
    "    \n",
    "    loss = loss_function(y_true, y_pred)\n",
    "    \n",
    "    comparisons.append({\n",
    "            'prediction': compare_column,\n",
    "            'loss': loss,\n",
    "        })\n",
    "comparisons_df = pandas.DataFrame(comparisons)[['prediction','loss']]\n",
    "comparisons_df.sort_values('loss', ascending=False, inplace=True)\n",
    "comparisons_df.reset_index(inplace=True, drop=True)"
   ]
  },
  {
   "cell_type": "code",
   "execution_count": 530,
   "metadata": {
    "collapsed": false
   },
   "outputs": [
    {
     "data": {
      "text/html": [
       "<div>\n",
       "<table border=\"1\" class=\"dataframe\">\n",
       "  <thead>\n",
       "    <tr style=\"text-align: right;\">\n",
       "      <th></th>\n",
       "      <th>prediction</th>\n",
       "      <th>loss</th>\n",
       "    </tr>\n",
       "  </thead>\n",
       "  <tbody>\n",
       "    <tr>\n",
       "      <th>0</th>\n",
       "      <td>nyt</td>\n",
       "      <td>-0.237565</td>\n",
       "    </tr>\n",
       "    <tr>\n",
       "      <th>1</th>\n",
       "      <td>538__polls_only</td>\n",
       "      <td>-0.251104</td>\n",
       "    </tr>\n",
       "    <tr>\n",
       "      <th>2</th>\n",
       "      <td>pw__predict_wise</td>\n",
       "      <td>-0.252528</td>\n",
       "    </tr>\n",
       "    <tr>\n",
       "      <th>3</th>\n",
       "      <td>538__polls_plus</td>\n",
       "      <td>-0.253090</td>\n",
       "    </tr>\n",
       "    <tr>\n",
       "      <th>4</th>\n",
       "      <td>538__now_cast</td>\n",
       "      <td>-0.253106</td>\n",
       "    </tr>\n",
       "    <tr>\n",
       "      <th>5</th>\n",
       "      <td>pw__predict_it</td>\n",
       "      <td>-0.255152</td>\n",
       "    </tr>\n",
       "    <tr>\n",
       "      <th>6</th>\n",
       "      <td>pw__betfair</td>\n",
       "      <td>-0.255438</td>\n",
       "    </tr>\n",
       "    <tr>\n",
       "      <th>7</th>\n",
       "      <td>pw__iem</td>\n",
       "      <td>-0.255601</td>\n",
       "    </tr>\n",
       "    <tr>\n",
       "      <th>8</th>\n",
       "      <td>pw__hypermind</td>\n",
       "      <td>-0.265053</td>\n",
       "    </tr>\n",
       "  </tbody>\n",
       "</table>\n",
       "</div>"
      ],
      "text/plain": [
       "         prediction      loss\n",
       "0               nyt -0.237565\n",
       "1   538__polls_only -0.251104\n",
       "2  pw__predict_wise -0.252528\n",
       "3   538__polls_plus -0.253090\n",
       "4     538__now_cast -0.253106\n",
       "5    pw__predict_it -0.255152\n",
       "6       pw__betfair -0.255438\n",
       "7           pw__iem -0.255601\n",
       "8     pw__hypermind -0.265053"
      ]
     },
     "execution_count": 530,
     "metadata": {},
     "output_type": "execute_result"
    }
   ],
   "source": [
    "comparisons_df"
   ]
  },
  {
   "cell_type": "code",
   "execution_count": null,
   "metadata": {
    "collapsed": true
   },
   "outputs": [],
   "source": []
  },
  {
   "cell_type": "code",
   "execution_count": null,
   "metadata": {
    "collapsed": true
   },
   "outputs": [],
   "source": []
  }
 ],
 "metadata": {
  "kernelspec": {
   "display_name": "Python 3",
   "language": "python",
   "name": "python3"
  },
  "language_info": {
   "codemirror_mode": {
    "name": "ipython",
    "version": 3
   },
   "file_extension": ".py",
   "mimetype": "text/x-python",
   "name": "python",
   "nbconvert_exporter": "python",
   "pygments_lexer": "ipython3",
   "version": "3.5.2"
  }
 },
 "nbformat": 4,
 "nbformat_minor": 1
}
