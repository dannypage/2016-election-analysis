{
 "cells": [
  {
   "cell_type": "code",
   "execution_count": 385,
   "metadata": {
    "collapsed": true
   },
   "outputs": [],
   "source": [
    "import collections\n",
    "import datetime\n",
    "import requests\n",
    "import inflection\n",
    "import pandas\n",
    "import pytz"
   ]
  },
  {
   "cell_type": "code",
   "execution_count": 386,
   "metadata": {
    "collapsed": true
   },
   "outputs": [],
   "source": [
    "pandas.set_option('max_rows', None)\n",
    "pandas.set_option('max_columns', None)"
   ]
  },
  {
   "cell_type": "code",
   "execution_count": null,
   "metadata": {
    "collapsed": true
   },
   "outputs": [],
   "source": []
  },
  {
   "cell_type": "code",
   "execution_count": 387,
   "metadata": {
    "collapsed": true
   },
   "outputs": [],
   "source": [
    "STALE_DT = (datetime.datetime.utcnow() - datetime.timedelta(minutes=90)).replace(tzinfo=pytz.utc)"
   ]
  },
  {
   "cell_type": "code",
   "execution_count": 388,
   "metadata": {
    "collapsed": false
   },
   "outputs": [
    {
     "data": {
      "text/plain": [
       "datetime.datetime(2016, 11, 8, 22, 41, 20, 535801, tzinfo=<UTC>)"
      ]
     },
     "execution_count": 388,
     "metadata": {},
     "output_type": "execute_result"
    }
   ],
   "source": [
    "STALE_DT"
   ]
  },
  {
   "cell_type": "code",
   "execution_count": 389,
   "metadata": {
    "collapsed": false
   },
   "outputs": [
    {
     "data": {
      "text/plain": [
       "Timedelta('-1 days +23:09:22.464199')"
      ]
     },
     "execution_count": 389,
     "metadata": {},
     "output_type": "execute_result"
    }
   ],
   "source": [
    "strikes_df['call__updated'].max() - STALE_DT"
   ]
  },
  {
   "cell_type": "code",
   "execution_count": 390,
   "metadata": {
    "collapsed": true
   },
   "outputs": [],
   "source": [
    "def strip_updated(updated_at):\n",
    "    updated_at = updated_at.replace('CT<br /> ', '')\n",
    "    dt = datetime.datetime.strptime(updated_at, '%H:%M:%S %d %b %Y')\n",
    "    dt = dt.replace(tzinfo=pytz.timezone('US/Central'))\n",
    "    dt = dt.astimezone(pytz.utc)\n",
    "    return dt"
   ]
  },
  {
   "cell_type": "code",
   "execution_count": null,
   "metadata": {
    "collapsed": false
   },
   "outputs": [],
   "source": []
  },
  {
   "cell_type": "code",
   "execution_count": 391,
   "metadata": {
    "collapsed": true
   },
   "outputs": [],
   "source": [
    "# url = 'http://www.cmegroup.com/CmeWS/mvc/Quotes/Option/2916/G/X6/Active?optionProductId=2915&strikeRange=Active&pageSize=50&_=1478643918531'\n",
    "url = 'https://query1.finance.yahoo.com/v7/finance/options/SPY?formatted=true&crumb=oPWCX4Hh1ne&lang=en-US&region=US&straddle=false&corsDomain=finance.yahoo.com'"
   ]
  },
  {
   "cell_type": "code",
   "execution_count": 392,
   "metadata": {
    "collapsed": true
   },
   "outputs": [],
   "source": [
    "req = requests.get(url)"
   ]
  },
  {
   "cell_type": "code",
   "execution_count": 393,
   "metadata": {
    "collapsed": true
   },
   "outputs": [],
   "source": [
    "data = req.json()"
   ]
  },
  {
   "cell_type": "code",
   "execution_count": 394,
   "metadata": {
    "collapsed": false
   },
   "outputs": [],
   "source": [
    "# line_cols = ['strikePrice', 'strikeRank', 'underlyingFutureContract']\n",
    "\n",
    "# strikes_list = []\n",
    "# for strike_line in data['optionContractQuotes']:\n",
    "#     to_append = {inflection.underscore(c): strike_line[c] for c in line_cols}\n",
    "    \n",
    "#     to_append.update({'put__{c}'.format(c=c): v for c, v in strike_line['put'].items()})\n",
    "#     to_append.update({'call__{c}'.format(c=c): v for c, v in strike_line['call'].items()})\n",
    "    \n",
    "#     to_append['put__updated'] = strip_updated(to_append['put__updated'])\n",
    "#     to_append['call__updated'] = strip_updated(to_append['call__updated'])\n",
    "    \n",
    "#     strikes_list.append(to_append)\n",
    "# strikes_df = pandas.DataFrame(strikes_list)"
   ]
  },
  {
   "cell_type": "code",
   "execution_count": 395,
   "metadata": {
    "collapsed": false
   },
   "outputs": [],
   "source": [
    "# strikes_df['strike_price'] = strikes_df['strike_price'].astype(float)\n",
    "# strikes_df['call__last'] = strikes_df['call__last'].apply(lambda k: float(k) if k != '-' else None)\n",
    "# strikes_df['put__last'] = strikes_df['put__last'].apply(lambda k: float(k) if k != '-' else None)"
   ]
  },
  {
   "cell_type": "code",
   "execution_count": 396,
   "metadata": {
    "collapsed": false
   },
   "outputs": [],
   "source": [
    "# non_stale_slice = strikes_df['call__updated'] > STALE_DT\n",
    "# mod_1000_strike = strikes_df['strike_price'] % 1000 == 0\n",
    "# within_fwd      = strikes_df['strike_price'].apply(lambda k: abs(k-214000) < 8000)"
   ]
  },
  {
   "cell_type": "code",
   "execution_count": 397,
   "metadata": {
    "collapsed": false
   },
   "outputs": [],
   "source": [
    "# calls = strikes_df[non_stale_slice & mod_1000_strike & within_fwd][['strike_price','call__last','call__updated']]\n",
    "# calls['call__spread'] = calls['call__last'].diff(-1)\n",
    "# calls['call__fly'] = calls['call__spread'].diff(-1)\n",
    "# calls['fly_imp_prob'] = calls['call__fly'] / 10"
   ]
  },
  {
   "cell_type": "code",
   "execution_count": 398,
   "metadata": {
    "collapsed": false,
    "scrolled": false
   },
   "outputs": [],
   "source": [
    "opts = data['optionChain']['result'][0]['options'][0]"
   ]
  },
  {
   "cell_type": "code",
   "execution_count": 399,
   "metadata": {
    "collapsed": true
   },
   "outputs": [],
   "source": [
    "MIN_STRIKE = int(min(min(opt['strike']['raw'] for opt in opts['calls']), min(opt['strike']['raw'] for opt in opts['puts'])))\n",
    "MAX_STRIKE = int(max(max(opt['strike']['raw'] for opt in opts['calls']), max(opt['strike']['raw'] for opt in opts['puts'])))"
   ]
  },
  {
   "cell_type": "code",
   "execution_count": 400,
   "metadata": {
    "collapsed": false
   },
   "outputs": [
    {
     "data": {
      "text/plain": [
       "(175, 235)"
      ]
     },
     "execution_count": 400,
     "metadata": {},
     "output_type": "execute_result"
    }
   ],
   "source": [
    "MIN_STRIKE, MAX_STRIKE"
   ]
  },
  {
   "cell_type": "code",
   "execution_count": 401,
   "metadata": {
    "collapsed": false
   },
   "outputs": [],
   "source": [
    "calls = {}\n",
    "puts  = {}\n",
    "\n",
    "for call_dict in opts['calls']:\n",
    "    calls[call_dict['strike']['raw']] = call_dict\n",
    "for puts_dict in opts['puts']:\n",
    "    puts[puts_dict['strike']['raw']] = puts_dict"
   ]
  },
  {
   "cell_type": "code",
   "execution_count": 402,
   "metadata": {
    "collapsed": false
   },
   "outputs": [],
   "source": [
    "options_list = []\n",
    "for k in range(MIN_STRIKE, MAX_STRIKE+1, 1):\n",
    "    call_dict = calls.get(k, None)\n",
    "    put_dict = puts.get(k, None)\n",
    "    \n",
    "    to_append = {}\n",
    "    \n",
    "    if call_dict:\n",
    "        to_append.update({\n",
    "            'call_strike': call_dict['strike']['raw'],\n",
    "            'call_expiration': datetime.datetime.fromtimestamp(call_dict['expiration']['raw']),\n",
    "            'call_ask': call_dict['ask']['raw'],\n",
    "            'call_bid': call_dict['bid']['raw'],\n",
    "            'call_mm': (call_dict['ask']['raw'] + call_dict['bid']['raw']) / 2,\n",
    "            'call_symbol': call_dict['contractSymbol'],\n",
    "            'call_open_interest':  call_dict['openInterest']['raw'],\n",
    "        })\n",
    "    \n",
    "    if put_dict:\n",
    "        to_append.update({\n",
    "            'put_strike': put_dict['strike']['raw'],\n",
    "            'put_expiration': datetime.datetime.fromtimestamp(put_dict['expiration']['raw']),\n",
    "            'put_ask': put_dict['ask']['raw'],\n",
    "            'put_bid': put_dict['bid']['raw'],\n",
    "            'put_mm': (put_dict['ask']['raw'] + put_dict['bid']['raw']) / 2,\n",
    "            'put_symbol': put_dict['contractSymbol'],\n",
    "            'put_open_interest': put_dict['openInterest']['raw'],\n",
    "        })\n",
    "    options_list.append(to_append)\n",
    "df = pandas.DataFrame(options_list)"
   ]
  },
  {
   "cell_type": "code",
   "execution_count": null,
   "metadata": {
    "collapsed": true
   },
   "outputs": [],
   "source": []
  },
  {
   "cell_type": "code",
   "execution_count": null,
   "metadata": {
    "collapsed": false
   },
   "outputs": [],
   "source": []
  },
  {
   "cell_type": "code",
   "execution_count": null,
   "metadata": {
    "collapsed": false,
    "scrolled": false
   },
   "outputs": [],
   "source": []
  },
  {
   "cell_type": "code",
   "execution_count": 403,
   "metadata": {
    "collapsed": true
   },
   "outputs": [],
   "source": [
    "MIN_STRIKE = 205\n",
    "MAX_STRIKE = 223\n",
    "STRIKE_LIST = list(range(MIN_STRIKE, MAX_STRIKE+1, 1))"
   ]
  },
  {
   "cell_type": "code",
   "execution_count": 404,
   "metadata": {
    "collapsed": false,
    "scrolled": false
   },
   "outputs": [],
   "source": [
    "df = df[df['call_strike'].isin(STRIKE_LIST)].reset_index(drop=True)"
   ]
  },
  {
   "cell_type": "code",
   "execution_count": 405,
   "metadata": {
    "collapsed": false
   },
   "outputs": [],
   "source": [
    "df['call_spread'] = df['call_mm'] - df['call_mm'].shift(-1)\n",
    "df['call_fly']    = df['call_spread'] - df['call_spread'].shift(-1)\n",
    "\n",
    "df['put_spread'] = df['put_mm'] - df['put_mm'].shift(-1)\n",
    "df['put_fly']    = df['put_spread'] - df['put_spread'].shift(-1)"
   ]
  },
  {
   "cell_type": "code",
   "execution_count": 417,
   "metadata": {
    "collapsed": true
   },
   "outputs": [],
   "source": [
    "df['fly'] = df.apply(lambda k: k['call_fly'] if k['call_strike'] > 215 else k['put_fly'], axis=1).round(decimals=4)"
   ]
  },
  {
   "cell_type": "code",
   "execution_count": 418,
   "metadata": {
    "collapsed": false
   },
   "outputs": [
    {
     "data": {
      "text/html": [
       "<div>\n",
       "<table border=\"1\" class=\"dataframe\">\n",
       "  <thead>\n",
       "    <tr style=\"text-align: right;\">\n",
       "      <th></th>\n",
       "      <th>fly</th>\n",
       "      <th>call_strike</th>\n",
       "      <th>call_fly</th>\n",
       "      <th>call_mm</th>\n",
       "      <th>put_strike</th>\n",
       "      <th>put_fly</th>\n",
       "      <th>put_mm</th>\n",
       "    </tr>\n",
       "  </thead>\n",
       "  <tbody>\n",
       "    <tr>\n",
       "      <th>0</th>\n",
       "      <td>0.065</td>\n",
       "      <td>205.0</td>\n",
       "      <td>-0.020</td>\n",
       "      <td>9.585</td>\n",
       "      <td>205.0</td>\n",
       "      <td>6.500000e-02</td>\n",
       "      <td>0.540</td>\n",
       "    </tr>\n",
       "    <tr>\n",
       "      <th>1</th>\n",
       "      <td>0.000</td>\n",
       "      <td>206.0</td>\n",
       "      <td>0.040</td>\n",
       "      <td>8.695</td>\n",
       "      <td>206.0</td>\n",
       "      <td>0.000000e+00</td>\n",
       "      <td>0.625</td>\n",
       "    </tr>\n",
       "    <tr>\n",
       "      <th>2</th>\n",
       "      <td>-0.025</td>\n",
       "      <td>207.0</td>\n",
       "      <td>0.010</td>\n",
       "      <td>7.785</td>\n",
       "      <td>207.0</td>\n",
       "      <td>-2.500000e-02</td>\n",
       "      <td>0.775</td>\n",
       "    </tr>\n",
       "    <tr>\n",
       "      <th>3</th>\n",
       "      <td>-0.000</td>\n",
       "      <td>208.0</td>\n",
       "      <td>-0.040</td>\n",
       "      <td>6.915</td>\n",
       "      <td>208.0</td>\n",
       "      <td>-2.220446e-16</td>\n",
       "      <td>0.925</td>\n",
       "    </tr>\n",
       "    <tr>\n",
       "      <th>4</th>\n",
       "      <td>0.050</td>\n",
       "      <td>209.0</td>\n",
       "      <td>0.125</td>\n",
       "      <td>6.055</td>\n",
       "      <td>209.0</td>\n",
       "      <td>5.000000e-02</td>\n",
       "      <td>1.050</td>\n",
       "    </tr>\n",
       "    <tr>\n",
       "      <th>5</th>\n",
       "      <td>0.055</td>\n",
       "      <td>210.0</td>\n",
       "      <td>-0.025</td>\n",
       "      <td>5.155</td>\n",
       "      <td>210.0</td>\n",
       "      <td>5.500000e-02</td>\n",
       "      <td>1.175</td>\n",
       "    </tr>\n",
       "    <tr>\n",
       "      <th>6</th>\n",
       "      <td>-0.020</td>\n",
       "      <td>211.0</td>\n",
       "      <td>0.010</td>\n",
       "      <td>4.380</td>\n",
       "      <td>211.0</td>\n",
       "      <td>-2.000000e-02</td>\n",
       "      <td>1.350</td>\n",
       "    </tr>\n",
       "    <tr>\n",
       "      <th>7</th>\n",
       "      <td>0.020</td>\n",
       "      <td>212.0</td>\n",
       "      <td>0.075</td>\n",
       "      <td>3.580</td>\n",
       "      <td>212.0</td>\n",
       "      <td>2.000000e-02</td>\n",
       "      <td>1.580</td>\n",
       "    </tr>\n",
       "    <tr>\n",
       "      <th>8</th>\n",
       "      <td>0.135</td>\n",
       "      <td>213.0</td>\n",
       "      <td>0.035</td>\n",
       "      <td>2.790</td>\n",
       "      <td>213.0</td>\n",
       "      <td>1.350000e-01</td>\n",
       "      <td>1.790</td>\n",
       "    </tr>\n",
       "    <tr>\n",
       "      <th>9</th>\n",
       "      <td>0.065</td>\n",
       "      <td>214.0</td>\n",
       "      <td>0.095</td>\n",
       "      <td>2.075</td>\n",
       "      <td>214.0</td>\n",
       "      <td>6.500000e-02</td>\n",
       "      <td>2.020</td>\n",
       "    </tr>\n",
       "    <tr>\n",
       "      <th>10</th>\n",
       "      <td>0.160</td>\n",
       "      <td>215.0</td>\n",
       "      <td>0.170</td>\n",
       "      <td>1.395</td>\n",
       "      <td>215.0</td>\n",
       "      <td>1.600000e-01</td>\n",
       "      <td>2.385</td>\n",
       "    </tr>\n",
       "    <tr>\n",
       "      <th>11</th>\n",
       "      <td>0.210</td>\n",
       "      <td>216.0</td>\n",
       "      <td>0.210</td>\n",
       "      <td>0.810</td>\n",
       "      <td>216.0</td>\n",
       "      <td>1.800000e-01</td>\n",
       "      <td>2.815</td>\n",
       "    </tr>\n",
       "    <tr>\n",
       "      <th>12</th>\n",
       "      <td>0.090</td>\n",
       "      <td>217.0</td>\n",
       "      <td>0.090</td>\n",
       "      <td>0.395</td>\n",
       "      <td>217.0</td>\n",
       "      <td>3.900000e-01</td>\n",
       "      <td>3.405</td>\n",
       "    </tr>\n",
       "    <tr>\n",
       "      <th>13</th>\n",
       "      <td>0.080</td>\n",
       "      <td>218.0</td>\n",
       "      <td>0.080</td>\n",
       "      <td>0.190</td>\n",
       "      <td>218.0</td>\n",
       "      <td>-4.750000e-01</td>\n",
       "      <td>4.175</td>\n",
       "    </tr>\n",
       "    <tr>\n",
       "      <th>14</th>\n",
       "      <td>0.025</td>\n",
       "      <td>219.0</td>\n",
       "      <td>0.025</td>\n",
       "      <td>0.075</td>\n",
       "      <td>219.0</td>\n",
       "      <td>3.050000e-01</td>\n",
       "      <td>5.335</td>\n",
       "    </tr>\n",
       "    <tr>\n",
       "      <th>15</th>\n",
       "      <td>0.010</td>\n",
       "      <td>220.0</td>\n",
       "      <td>0.010</td>\n",
       "      <td>0.040</td>\n",
       "      <td>220.0</td>\n",
       "      <td>5.000000e-03</td>\n",
       "      <td>6.020</td>\n",
       "    </tr>\n",
       "    <tr>\n",
       "      <th>16</th>\n",
       "      <td>-0.010</td>\n",
       "      <td>221.0</td>\n",
       "      <td>-0.010</td>\n",
       "      <td>0.030</td>\n",
       "      <td>221.0</td>\n",
       "      <td>NaN</td>\n",
       "      <td>7.010</td>\n",
       "    </tr>\n",
       "    <tr>\n",
       "      <th>17</th>\n",
       "      <td>NaN</td>\n",
       "      <td>222.0</td>\n",
       "      <td>NaN</td>\n",
       "      <td>0.030</td>\n",
       "      <td>222.0</td>\n",
       "      <td>NaN</td>\n",
       "      <td>8.005</td>\n",
       "    </tr>\n",
       "    <tr>\n",
       "      <th>18</th>\n",
       "      <td>NaN</td>\n",
       "      <td>223.0</td>\n",
       "      <td>NaN</td>\n",
       "      <td>0.020</td>\n",
       "      <td>NaN</td>\n",
       "      <td>NaN</td>\n",
       "      <td>NaN</td>\n",
       "    </tr>\n",
       "  </tbody>\n",
       "</table>\n",
       "</div>"
      ],
      "text/plain": [
       "      fly  call_strike  call_fly  call_mm  put_strike       put_fly  put_mm\n",
       "0   0.065        205.0    -0.020    9.585       205.0  6.500000e-02   0.540\n",
       "1   0.000        206.0     0.040    8.695       206.0  0.000000e+00   0.625\n",
       "2  -0.025        207.0     0.010    7.785       207.0 -2.500000e-02   0.775\n",
       "3  -0.000        208.0    -0.040    6.915       208.0 -2.220446e-16   0.925\n",
       "4   0.050        209.0     0.125    6.055       209.0  5.000000e-02   1.050\n",
       "5   0.055        210.0    -0.025    5.155       210.0  5.500000e-02   1.175\n",
       "6  -0.020        211.0     0.010    4.380       211.0 -2.000000e-02   1.350\n",
       "7   0.020        212.0     0.075    3.580       212.0  2.000000e-02   1.580\n",
       "8   0.135        213.0     0.035    2.790       213.0  1.350000e-01   1.790\n",
       "9   0.065        214.0     0.095    2.075       214.0  6.500000e-02   2.020\n",
       "10  0.160        215.0     0.170    1.395       215.0  1.600000e-01   2.385\n",
       "11  0.210        216.0     0.210    0.810       216.0  1.800000e-01   2.815\n",
       "12  0.090        217.0     0.090    0.395       217.0  3.900000e-01   3.405\n",
       "13  0.080        218.0     0.080    0.190       218.0 -4.750000e-01   4.175\n",
       "14  0.025        219.0     0.025    0.075       219.0  3.050000e-01   5.335\n",
       "15  0.010        220.0     0.010    0.040       220.0  5.000000e-03   6.020\n",
       "16 -0.010        221.0    -0.010    0.030       221.0           NaN   7.010\n",
       "17    NaN        222.0       NaN    0.030       222.0           NaN   8.005\n",
       "18    NaN        223.0       NaN    0.020         NaN           NaN     NaN"
      ]
     },
     "execution_count": 418,
     "metadata": {},
     "output_type": "execute_result"
    }
   ],
   "source": [
    "df[['fly','call_strike','call_fly','call_mm','put_strike','put_fly','put_mm']]"
   ]
  },
  {
   "cell_type": "code",
   "execution_count": null,
   "metadata": {
    "collapsed": true
   },
   "outputs": [],
   "source": []
  },
  {
   "cell_type": "code",
   "execution_count": null,
   "metadata": {
    "collapsed": true
   },
   "outputs": [],
   "source": []
  },
  {
   "cell_type": "code",
   "execution_count": null,
   "metadata": {
    "collapsed": true
   },
   "outputs": [],
   "source": []
  }
 ],
 "metadata": {
  "kernelspec": {
   "display_name": "Python 3",
   "language": "python",
   "name": "python3"
  },
  "language_info": {
   "codemirror_mode": {
    "name": "ipython",
    "version": 3
   },
   "file_extension": ".py",
   "mimetype": "text/x-python",
   "name": "python",
   "nbconvert_exporter": "python",
   "pygments_lexer": "ipython3",
   "version": "3.5.2"
  }
 },
 "nbformat": 4,
 "nbformat_minor": 1
}
